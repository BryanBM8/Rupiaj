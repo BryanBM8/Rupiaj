{
 "cells": [
  {
   "cell_type": "code",
   "execution_count": 5,
   "metadata": {},
   "outputs": [
    {
     "name": "stderr",
     "output_type": "stream",
     "text": [
      "c:\\Users\\jasso\\.conda\\envs\\computer-vision-2\\lib\\site-packages\\tqdm\\auto.py:21: TqdmWarning: IProgress not found. Please update jupyter and ipywidgets. See https://ipywidgets.readthedocs.io/en/stable/user_install.html\n",
      "  from .autonotebook import tqdm as notebook_tqdm\n"
     ]
    }
   ],
   "source": [
    "import numpy as np\n",
    "import tensorflow as tf\n",
    "import os\n",
    "from sklearn.model_selection import train_test_split\n",
    "from tensorflow.keras.preprocessing.image import load_img, img_to_array\n",
    "from tensorflow.keras import layers, models, optimizers\n",
    "import cv2\n",
    "import time\n",
    "from tqdm.auto import tqdm"
   ]
  },
  {
   "cell_type": "code",
   "execution_count": 6,
   "metadata": {},
   "outputs": [],
   "source": [
    "names = ['1 RIBU ASLI', '1 RIBU PALSU', '10 RIBU ASLI', '10 RIBU PALSU', \n",
    "         '100 RIBU ASLI', '100 RIBU PALSU', '20 RIBU ASLI', '20 RIBU PALSU', \n",
    "         '5 RIBU ASLI', '5 RIBU PALSU', '50 RIBU ASLI', '50 RIBU PALSU']"
   ]
  },
  {
   "cell_type": "code",
   "execution_count": 7,
   "metadata": {},
   "outputs": [],
   "source": [
    "dataset_path = \"C:\\Codes\\Computer Vision\\Project\\PROJECT-DATA-UANG-9\""
   ]
  },
  {
   "cell_type": "code",
   "execution_count": 8,
   "metadata": {},
   "outputs": [],
   "source": [
    "def augment_image(image):\n",
    "    augmented_images = []\n",
    "\n",
    "    # Rotasi\n",
    "    for angle in [-30, 30]:\n",
    "        rotation_matrix = cv2.getRotationMatrix2D((image.shape[1] // 2, image.shape[0] // 2), angle, 1.0)\n",
    "        rotated = cv2.warpAffine(image, rotation_matrix, (image.shape[1], image.shape[0]))\n",
    "        augmented_images.append(rotated)\n",
    "\n",
    "    return augmented_images"
   ]
  },
  {
   "cell_type": "code",
   "execution_count": 9,
   "metadata": {},
   "outputs": [],
   "source": [
    "def load_dataset_with_folder_structure(folder_path,augment=True):\n",
    "    images_folder = os.path.join(folder_path, \"images\")\n",
    "    labels_folder = os.path.join(folder_path, \"labels\")\n",
    "    \n",
    "    data = []\n",
    "    labels = []\n",
    "    count=0\n",
    "    \n",
    "    for img_name in os.listdir(images_folder):\n",
    "        if img_name.endswith(\".jpg\"): \n",
    "            img_path = os.path.join(images_folder, img_name)\n",
    "            label_path = os.path.join(labels_folder, os.path.splitext(img_name)[0] + \".txt\")  # File label\n",
    "\n",
    "            img = cv2.imread(img_path)\n",
    "            if img is not None and os.path.exists(label_path):  # Pastikan gambar dan label ada\n",
    "                resized_img = cv2.resize(img, (512, 512))  # Resize gambar\n",
    "                data.append(resized_img)\n",
    "                \n",
    "                with open(label_path, \"r\") as f:\n",
    "                    first_line = f.readline().strip()  # Ambil baris pertama\n",
    "                    class_index = int(first_line.split()[0])  # Digit pertama sebagai label\n",
    "                    labels.append(class_index)\n",
    "\n",
    "                if augment:\n",
    "                    augmented_imgs = augment_image(resized_img)\n",
    "                    for aug_img in augmented_imgs:\n",
    "                        data.append(aug_img)\n",
    "                        labels.append(class_index)\n",
    "    \n",
    "    \n",
    "    return np.asarray(data, dtype=np.uint8), np.array(labels, dtype=np.int32)"
   ]
  },
  {
   "cell_type": "code",
   "execution_count": 10,
   "metadata": {},
   "outputs": [],
   "source": [
    "x_val, y_val=load_dataset_with_folder_structure(dataset_path+'/valid/', False)\n",
    "x_test, y_test=load_dataset_with_folder_structure(dataset_path+'/test/', False)\n",
    "x_train, y_train=load_dataset_with_folder_structure(dataset_path+'/train/', False)"
   ]
  },
  {
   "cell_type": "code",
   "execution_count": 11,
   "metadata": {},
   "outputs": [],
   "source": [
    "import torch\n",
    "from torchvision import models"
   ]
  },
  {
   "cell_type": "code",
   "execution_count": 12,
   "metadata": {},
   "outputs": [],
   "source": [
    "class ResNet50(torch.nn.Module):\n",
    "    def __init__(self):\n",
    "        super(ResNet50, self).__init__()\n",
    "        self.resnet = models.resnet50(pretrained=True)\n",
    "        self.resnet.fc = torch.nn.Linear(in_features=2048, out_features=12)\n",
    "        # self.resnet.compile()\n",
    "        \n",
    "    def forward(self, x):\n",
    "        return self.resnet(x)"
   ]
  },
  {
   "cell_type": "code",
   "execution_count": 13,
   "metadata": {},
   "outputs": [],
   "source": [
    "from torchvision import transforms\n",
    "import torch\n",
    "import torch.nn as nn\n",
    "import torch.optim as optim\n",
    "from torch.utils.data import DataLoader, Dataset"
   ]
  },
  {
   "cell_type": "code",
   "execution_count": 14,
   "metadata": {},
   "outputs": [],
   "source": [
    "class MoneyDataset(Dataset):\n",
    "    def __init__(self, x, y, transform=None):\n",
    "        self.x = x\n",
    "        self.y = y\n",
    "        self.transform = transform\n",
    "\n",
    "    def __len__(self):\n",
    "        return len(self.x)\n",
    "\n",
    "    def __getitem__(self, idx):\n",
    "        image = self.x[idx]\n",
    "        label = self.y[idx]\n",
    "\n",
    "        if self.transform:\n",
    "            image = self.transform(image)\n",
    "            label = torch.tensor(label)\n",
    "\n",
    "        return image, label"
   ]
  },
  {
   "cell_type": "code",
   "execution_count": 15,
   "metadata": {},
   "outputs": [],
   "source": [
    "transform = transforms.Compose([\n",
    "    transforms.ToTensor()\n",
    "])\n",
    "train_dataset = MoneyDataset(x_train, y_train, transform)\n",
    "val_dataset = MoneyDataset(x_val, y_val, transform)\n",
    "test_dataset = MoneyDataset(x_test, y_test, transform)"
   ]
  },
  {
   "cell_type": "code",
   "execution_count": 16,
   "metadata": {},
   "outputs": [],
   "source": [
    "train_loader = DataLoader(train_dataset, batch_size=12, shuffle=True)\n",
    "val_loader = DataLoader(val_dataset, batch_size=8)\n"
   ]
  },
  {
   "cell_type": "code",
   "execution_count": 28,
   "metadata": {},
   "outputs": [],
   "source": [
    "test_loader = DataLoader(test_dataset)"
   ]
  },
  {
   "cell_type": "code",
   "execution_count": 17,
   "metadata": {},
   "outputs": [
    {
     "data": {
      "text/plain": [
       "479"
      ]
     },
     "execution_count": 17,
     "metadata": {},
     "output_type": "execute_result"
    }
   ],
   "source": [
    "len(train_loader)"
   ]
  },
  {
   "cell_type": "code",
   "execution_count": 18,
   "metadata": {},
   "outputs": [],
   "source": [
    "\n",
    "def run_one_epoch(\n",
    "    epoch: int,\n",
    "    ds_sizes,\n",
    "    dataloaders,\n",
    "    model: nn.Module,\n",
    "    optimizer: torch.optim.Optimizer,\n",
    "    loss: nn.Module,\n",
    "    scheduler: torch.optim.lr_scheduler,\n",
    "    criterion: nn.Module\n",
    "):\n",
    "    global best_AUROC\n",
    "    \n",
    "    metrics = {}\n",
    "    device = 'cuda' if torch.cuda.is_available() else 'cpu'\n",
    "    \n",
    "    for phase in [\"train\", \"val\"]:\n",
    "\n",
    "        if phase == \"train\":\n",
    "            model.train()\n",
    "        else:\n",
    "            model.eval()\n",
    "        \n",
    "        avg_loss = 0\n",
    "\n",
    "        for images, labels in tqdm(dataloaders[phase], total=len(dataloaders[phase])):\n",
    "            labels = labels.type(torch.LongTensor)\n",
    "            images = images.to(device)\n",
    "            labels = labels.to(device)\n",
    "\n",
    "            # Zero the gradients\n",
    "            optimizer.zero_grad()\n",
    "\n",
    "            # Track history if in phase == \"train\"\n",
    "            with torch.set_grad_enabled(phase == \"train\"):\n",
    "                outputs = model(images)\n",
    "                \n",
    "                # print(outputs)\n",
    "                # print(labels)\n",
    "                loss = criterion(outputs, labels)\n",
    "                \n",
    "                if phase == \"train\":\n",
    "                    loss.backward()\n",
    "                    optimizer.step()\n",
    "\n",
    "            avg_loss += loss.item() * images.size(0)\n",
    "\n",
    "        epoch_loss = avg_loss / ds_sizes[phase]\n",
    "        \n",
    "        # step the scheduler\n",
    "        if phase == \"train\":\n",
    "            scheduler.step(epoch_loss)\n",
    "        \n",
    "\n",
    "        # Metrics tracking\n",
    "        if phase == \"train\":\n",
    "            metrics[\"train_loss\"] = round(epoch_loss, 3)\n",
    "        else:\n",
    "            metrics[\"val_loss\"] = round(epoch_loss, 3)\n",
    "\n",
    "    return metrics"
   ]
  },
  {
   "cell_type": "code",
   "execution_count": 19,
   "metadata": {},
   "outputs": [],
   "source": [
    "def train(dataloaders, ds_sizes, model, optimizer, criterion, scheduler):\n",
    "    for epoch in range(20):\n",
    "        start = time.time()\n",
    "\n",
    "        metrics = run_one_epoch(\n",
    "            epoch=epoch,\n",
    "            ds_sizes=ds_sizes,\n",
    "            dataloaders=dataloaders,\n",
    "            model=model,\n",
    "            optimizer=optimizer,\n",
    "            loss=criterion,\n",
    "            scheduler=scheduler,\n",
    "            criterion=criterion\n",
    "        )\n",
    "\n",
    "        end = time.time() - start\n",
    "\n",
    "        print(f\"Epoch {epoch+1} completed in: {round(end/60, 3)} mins, val_loss: {metrics['val_loss']}, train_loss: {metrics['train_loss']}\")\n",
    "    return model"
   ]
  },
  {
   "cell_type": "code",
   "execution_count": 20,
   "metadata": {},
   "outputs": [
    {
     "name": "stderr",
     "output_type": "stream",
     "text": [
      "c:\\Users\\jasso\\.conda\\envs\\computer-vision-2\\lib\\site-packages\\torchvision\\models\\_utils.py:208: UserWarning: The parameter 'pretrained' is deprecated since 0.13 and may be removed in the future, please use 'weights' instead.\n",
      "  warnings.warn(\n",
      "c:\\Users\\jasso\\.conda\\envs\\computer-vision-2\\lib\\site-packages\\torchvision\\models\\_utils.py:223: UserWarning: Arguments other than a weight enum or `None` for 'weights' are deprecated since 0.13 and may be removed in the future. The current behavior is equivalent to passing `weights=ResNet50_Weights.IMAGENET1K_V1`. You can also use `weights=ResNet50_Weights.DEFAULT` to get the most up-to-date weights.\n",
      "  warnings.warn(msg)\n",
      "100%|██████████| 479/479 [02:47<00:00,  2.86it/s]\n",
      "100%|██████████| 69/69 [00:05<00:00, 11.57it/s]\n"
     ]
    },
    {
     "name": "stdout",
     "output_type": "stream",
     "text": [
      "Epoch 1 completed in: 2.891 mins, val_loss: 0.14, train_loss: 0.804\n"
     ]
    },
    {
     "name": "stderr",
     "output_type": "stream",
     "text": [
      "100%|██████████| 479/479 [02:47<00:00,  2.86it/s]\n",
      "100%|██████████| 69/69 [00:05<00:00, 11.62it/s]\n"
     ]
    },
    {
     "name": "stdout",
     "output_type": "stream",
     "text": [
      "Epoch 2 completed in: 2.888 mins, val_loss: 0.027, train_loss: 0.257\n"
     ]
    },
    {
     "name": "stderr",
     "output_type": "stream",
     "text": [
      "100%|██████████| 479/479 [02:47<00:00,  2.86it/s]\n",
      "100%|██████████| 69/69 [00:06<00:00, 10.74it/s]\n"
     ]
    },
    {
     "name": "stdout",
     "output_type": "stream",
     "text": [
      "Epoch 3 completed in: 2.9 mins, val_loss: 0.372, train_loss: 0.158\n"
     ]
    },
    {
     "name": "stderr",
     "output_type": "stream",
     "text": [
      "100%|██████████| 479/479 [02:47<00:00,  2.86it/s]\n",
      "100%|██████████| 69/69 [00:05<00:00, 11.51it/s]\n"
     ]
    },
    {
     "name": "stdout",
     "output_type": "stream",
     "text": [
      "Epoch 4 completed in: 2.896 mins, val_loss: 0.457, train_loss: 0.082\n"
     ]
    },
    {
     "name": "stderr",
     "output_type": "stream",
     "text": [
      "100%|██████████| 479/479 [02:47<00:00,  2.86it/s]\n",
      "100%|██████████| 69/69 [00:06<00:00, 11.32it/s]\n"
     ]
    },
    {
     "name": "stdout",
     "output_type": "stream",
     "text": [
      "Epoch 5 completed in: 2.893 mins, val_loss: 11.446, train_loss: 0.105\n"
     ]
    },
    {
     "name": "stderr",
     "output_type": "stream",
     "text": [
      "100%|██████████| 479/479 [02:47<00:00,  2.86it/s]\n",
      "100%|██████████| 69/69 [00:05<00:00, 11.61it/s]\n"
     ]
    },
    {
     "name": "stdout",
     "output_type": "stream",
     "text": [
      "Epoch 6 completed in: 2.892 mins, val_loss: 0.019, train_loss: 0.051\n"
     ]
    },
    {
     "name": "stderr",
     "output_type": "stream",
     "text": [
      "100%|██████████| 479/479 [02:46<00:00,  2.87it/s]\n",
      "100%|██████████| 69/69 [00:05<00:00, 11.54it/s]\n"
     ]
    },
    {
     "name": "stdout",
     "output_type": "stream",
     "text": [
      "Epoch 7 completed in: 2.882 mins, val_loss: 0.923, train_loss: 0.079\n"
     ]
    },
    {
     "name": "stderr",
     "output_type": "stream",
     "text": [
      "100%|██████████| 479/479 [02:46<00:00,  2.87it/s]\n",
      "100%|██████████| 69/69 [00:05<00:00, 11.81it/s]\n"
     ]
    },
    {
     "name": "stdout",
     "output_type": "stream",
     "text": [
      "Epoch 8 completed in: 2.88 mins, val_loss: 0.452, train_loss: 0.067\n"
     ]
    },
    {
     "name": "stderr",
     "output_type": "stream",
     "text": [
      "100%|██████████| 479/479 [02:47<00:00,  2.87it/s]\n",
      "100%|██████████| 69/69 [00:05<00:00, 11.64it/s]\n"
     ]
    },
    {
     "name": "stdout",
     "output_type": "stream",
     "text": [
      "Epoch 9 completed in: 2.883 mins, val_loss: 0.016, train_loss: 0.047\n"
     ]
    },
    {
     "name": "stderr",
     "output_type": "stream",
     "text": [
      "100%|██████████| 479/479 [02:47<00:00,  2.86it/s]\n",
      "100%|██████████| 69/69 [00:05<00:00, 11.87it/s]\n"
     ]
    },
    {
     "name": "stdout",
     "output_type": "stream",
     "text": [
      "Epoch 10 completed in: 2.89 mins, val_loss: 0.15, train_loss: 0.06\n"
     ]
    },
    {
     "name": "stderr",
     "output_type": "stream",
     "text": [
      "100%|██████████| 479/479 [02:46<00:00,  2.87it/s]\n",
      "100%|██████████| 69/69 [00:05<00:00, 11.52it/s]\n"
     ]
    },
    {
     "name": "stdout",
     "output_type": "stream",
     "text": [
      "Epoch 11 completed in: 2.877 mins, val_loss: 0.012, train_loss: 0.07\n"
     ]
    },
    {
     "name": "stderr",
     "output_type": "stream",
     "text": [
      "100%|██████████| 479/479 [02:47<00:00,  2.86it/s]\n",
      "100%|██████████| 69/69 [00:05<00:00, 11.79it/s]\n"
     ]
    },
    {
     "name": "stdout",
     "output_type": "stream",
     "text": [
      "Epoch 12 completed in: 2.889 mins, val_loss: 0.014, train_loss: 0.025\n"
     ]
    },
    {
     "name": "stderr",
     "output_type": "stream",
     "text": [
      "100%|██████████| 479/479 [02:47<00:00,  2.87it/s]\n",
      "100%|██████████| 69/69 [00:05<00:00, 11.75it/s]\n"
     ]
    },
    {
     "name": "stdout",
     "output_type": "stream",
     "text": [
      "Epoch 13 completed in: 2.882 mins, val_loss: 0.021, train_loss: 0.016\n"
     ]
    },
    {
     "name": "stderr",
     "output_type": "stream",
     "text": [
      "100%|██████████| 479/479 [02:46<00:00,  2.87it/s]\n",
      "100%|██████████| 69/69 [00:05<00:00, 11.78it/s]\n"
     ]
    },
    {
     "name": "stdout",
     "output_type": "stream",
     "text": [
      "Epoch 14 completed in: 2.879 mins, val_loss: 0.014, train_loss: 0.089\n"
     ]
    },
    {
     "name": "stderr",
     "output_type": "stream",
     "text": [
      "100%|██████████| 479/479 [02:46<00:00,  2.87it/s]\n",
      "100%|██████████| 69/69 [00:06<00:00, 11.47it/s]\n"
     ]
    },
    {
     "name": "stdout",
     "output_type": "stream",
     "text": [
      "Epoch 15 completed in: 2.879 mins, val_loss: 0.015, train_loss: 0.026\n"
     ]
    },
    {
     "name": "stderr",
     "output_type": "stream",
     "text": [
      "100%|██████████| 479/479 [02:47<00:00,  2.87it/s]\n",
      "100%|██████████| 69/69 [00:05<00:00, 11.81it/s]\n"
     ]
    },
    {
     "name": "stdout",
     "output_type": "stream",
     "text": [
      "Epoch 16 completed in: 2.881 mins, val_loss: 0.021, train_loss: 0.03\n"
     ]
    },
    {
     "name": "stderr",
     "output_type": "stream",
     "text": [
      "100%|██████████| 479/479 [02:46<00:00,  2.87it/s]\n",
      "100%|██████████| 69/69 [00:05<00:00, 11.78it/s]\n"
     ]
    },
    {
     "name": "stdout",
     "output_type": "stream",
     "text": [
      "Epoch 17 completed in: 2.876 mins, val_loss: 0.013, train_loss: 0.071\n"
     ]
    },
    {
     "name": "stderr",
     "output_type": "stream",
     "text": [
      "100%|██████████| 479/479 [02:51<00:00,  2.80it/s]\n",
      "100%|██████████| 69/69 [00:05<00:00, 11.80it/s]\n"
     ]
    },
    {
     "name": "stdout",
     "output_type": "stream",
     "text": [
      "Epoch 18 completed in: 2.949 mins, val_loss: 0.015, train_loss: 0.015\n"
     ]
    },
    {
     "name": "stderr",
     "output_type": "stream",
     "text": [
      "100%|██████████| 479/479 [02:46<00:00,  2.87it/s]\n",
      "100%|██████████| 69/69 [00:05<00:00, 11.54it/s]\n"
     ]
    },
    {
     "name": "stdout",
     "output_type": "stream",
     "text": [
      "Epoch 19 completed in: 2.882 mins, val_loss: 0.017, train_loss: 0.013\n"
     ]
    },
    {
     "name": "stderr",
     "output_type": "stream",
     "text": [
      "100%|██████████| 479/479 [02:46<00:00,  2.87it/s]\n",
      "100%|██████████| 69/69 [00:05<00:00, 11.79it/s]"
     ]
    },
    {
     "name": "stdout",
     "output_type": "stream",
     "text": [
      "Epoch 20 completed in: 2.879 mins, val_loss: 0.017, train_loss: 0.011\n"
     ]
    },
    {
     "name": "stderr",
     "output_type": "stream",
     "text": [
      "\n"
     ]
    },
    {
     "data": {
      "text/plain": [
       "ResNet50(\n",
       "  (resnet): ResNet(\n",
       "    (conv1): Conv2d(3, 64, kernel_size=(7, 7), stride=(2, 2), padding=(3, 3), bias=False)\n",
       "    (bn1): BatchNorm2d(64, eps=1e-05, momentum=0.1, affine=True, track_running_stats=True)\n",
       "    (relu): ReLU(inplace=True)\n",
       "    (maxpool): MaxPool2d(kernel_size=3, stride=2, padding=1, dilation=1, ceil_mode=False)\n",
       "    (layer1): Sequential(\n",
       "      (0): Bottleneck(\n",
       "        (conv1): Conv2d(64, 64, kernel_size=(1, 1), stride=(1, 1), bias=False)\n",
       "        (bn1): BatchNorm2d(64, eps=1e-05, momentum=0.1, affine=True, track_running_stats=True)\n",
       "        (conv2): Conv2d(64, 64, kernel_size=(3, 3), stride=(1, 1), padding=(1, 1), bias=False)\n",
       "        (bn2): BatchNorm2d(64, eps=1e-05, momentum=0.1, affine=True, track_running_stats=True)\n",
       "        (conv3): Conv2d(64, 256, kernel_size=(1, 1), stride=(1, 1), bias=False)\n",
       "        (bn3): BatchNorm2d(256, eps=1e-05, momentum=0.1, affine=True, track_running_stats=True)\n",
       "        (relu): ReLU(inplace=True)\n",
       "        (downsample): Sequential(\n",
       "          (0): Conv2d(64, 256, kernel_size=(1, 1), stride=(1, 1), bias=False)\n",
       "          (1): BatchNorm2d(256, eps=1e-05, momentum=0.1, affine=True, track_running_stats=True)\n",
       "        )\n",
       "      )\n",
       "      (1): Bottleneck(\n",
       "        (conv1): Conv2d(256, 64, kernel_size=(1, 1), stride=(1, 1), bias=False)\n",
       "        (bn1): BatchNorm2d(64, eps=1e-05, momentum=0.1, affine=True, track_running_stats=True)\n",
       "        (conv2): Conv2d(64, 64, kernel_size=(3, 3), stride=(1, 1), padding=(1, 1), bias=False)\n",
       "        (bn2): BatchNorm2d(64, eps=1e-05, momentum=0.1, affine=True, track_running_stats=True)\n",
       "        (conv3): Conv2d(64, 256, kernel_size=(1, 1), stride=(1, 1), bias=False)\n",
       "        (bn3): BatchNorm2d(256, eps=1e-05, momentum=0.1, affine=True, track_running_stats=True)\n",
       "        (relu): ReLU(inplace=True)\n",
       "      )\n",
       "      (2): Bottleneck(\n",
       "        (conv1): Conv2d(256, 64, kernel_size=(1, 1), stride=(1, 1), bias=False)\n",
       "        (bn1): BatchNorm2d(64, eps=1e-05, momentum=0.1, affine=True, track_running_stats=True)\n",
       "        (conv2): Conv2d(64, 64, kernel_size=(3, 3), stride=(1, 1), padding=(1, 1), bias=False)\n",
       "        (bn2): BatchNorm2d(64, eps=1e-05, momentum=0.1, affine=True, track_running_stats=True)\n",
       "        (conv3): Conv2d(64, 256, kernel_size=(1, 1), stride=(1, 1), bias=False)\n",
       "        (bn3): BatchNorm2d(256, eps=1e-05, momentum=0.1, affine=True, track_running_stats=True)\n",
       "        (relu): ReLU(inplace=True)\n",
       "      )\n",
       "    )\n",
       "    (layer2): Sequential(\n",
       "      (0): Bottleneck(\n",
       "        (conv1): Conv2d(256, 128, kernel_size=(1, 1), stride=(1, 1), bias=False)\n",
       "        (bn1): BatchNorm2d(128, eps=1e-05, momentum=0.1, affine=True, track_running_stats=True)\n",
       "        (conv2): Conv2d(128, 128, kernel_size=(3, 3), stride=(2, 2), padding=(1, 1), bias=False)\n",
       "        (bn2): BatchNorm2d(128, eps=1e-05, momentum=0.1, affine=True, track_running_stats=True)\n",
       "        (conv3): Conv2d(128, 512, kernel_size=(1, 1), stride=(1, 1), bias=False)\n",
       "        (bn3): BatchNorm2d(512, eps=1e-05, momentum=0.1, affine=True, track_running_stats=True)\n",
       "        (relu): ReLU(inplace=True)\n",
       "        (downsample): Sequential(\n",
       "          (0): Conv2d(256, 512, kernel_size=(1, 1), stride=(2, 2), bias=False)\n",
       "          (1): BatchNorm2d(512, eps=1e-05, momentum=0.1, affine=True, track_running_stats=True)\n",
       "        )\n",
       "      )\n",
       "      (1): Bottleneck(\n",
       "        (conv1): Conv2d(512, 128, kernel_size=(1, 1), stride=(1, 1), bias=False)\n",
       "        (bn1): BatchNorm2d(128, eps=1e-05, momentum=0.1, affine=True, track_running_stats=True)\n",
       "        (conv2): Conv2d(128, 128, kernel_size=(3, 3), stride=(1, 1), padding=(1, 1), bias=False)\n",
       "        (bn2): BatchNorm2d(128, eps=1e-05, momentum=0.1, affine=True, track_running_stats=True)\n",
       "        (conv3): Conv2d(128, 512, kernel_size=(1, 1), stride=(1, 1), bias=False)\n",
       "        (bn3): BatchNorm2d(512, eps=1e-05, momentum=0.1, affine=True, track_running_stats=True)\n",
       "        (relu): ReLU(inplace=True)\n",
       "      )\n",
       "      (2): Bottleneck(\n",
       "        (conv1): Conv2d(512, 128, kernel_size=(1, 1), stride=(1, 1), bias=False)\n",
       "        (bn1): BatchNorm2d(128, eps=1e-05, momentum=0.1, affine=True, track_running_stats=True)\n",
       "        (conv2): Conv2d(128, 128, kernel_size=(3, 3), stride=(1, 1), padding=(1, 1), bias=False)\n",
       "        (bn2): BatchNorm2d(128, eps=1e-05, momentum=0.1, affine=True, track_running_stats=True)\n",
       "        (conv3): Conv2d(128, 512, kernel_size=(1, 1), stride=(1, 1), bias=False)\n",
       "        (bn3): BatchNorm2d(512, eps=1e-05, momentum=0.1, affine=True, track_running_stats=True)\n",
       "        (relu): ReLU(inplace=True)\n",
       "      )\n",
       "      (3): Bottleneck(\n",
       "        (conv1): Conv2d(512, 128, kernel_size=(1, 1), stride=(1, 1), bias=False)\n",
       "        (bn1): BatchNorm2d(128, eps=1e-05, momentum=0.1, affine=True, track_running_stats=True)\n",
       "        (conv2): Conv2d(128, 128, kernel_size=(3, 3), stride=(1, 1), padding=(1, 1), bias=False)\n",
       "        (bn2): BatchNorm2d(128, eps=1e-05, momentum=0.1, affine=True, track_running_stats=True)\n",
       "        (conv3): Conv2d(128, 512, kernel_size=(1, 1), stride=(1, 1), bias=False)\n",
       "        (bn3): BatchNorm2d(512, eps=1e-05, momentum=0.1, affine=True, track_running_stats=True)\n",
       "        (relu): ReLU(inplace=True)\n",
       "      )\n",
       "    )\n",
       "    (layer3): Sequential(\n",
       "      (0): Bottleneck(\n",
       "        (conv1): Conv2d(512, 256, kernel_size=(1, 1), stride=(1, 1), bias=False)\n",
       "        (bn1): BatchNorm2d(256, eps=1e-05, momentum=0.1, affine=True, track_running_stats=True)\n",
       "        (conv2): Conv2d(256, 256, kernel_size=(3, 3), stride=(2, 2), padding=(1, 1), bias=False)\n",
       "        (bn2): BatchNorm2d(256, eps=1e-05, momentum=0.1, affine=True, track_running_stats=True)\n",
       "        (conv3): Conv2d(256, 1024, kernel_size=(1, 1), stride=(1, 1), bias=False)\n",
       "        (bn3): BatchNorm2d(1024, eps=1e-05, momentum=0.1, affine=True, track_running_stats=True)\n",
       "        (relu): ReLU(inplace=True)\n",
       "        (downsample): Sequential(\n",
       "          (0): Conv2d(512, 1024, kernel_size=(1, 1), stride=(2, 2), bias=False)\n",
       "          (1): BatchNorm2d(1024, eps=1e-05, momentum=0.1, affine=True, track_running_stats=True)\n",
       "        )\n",
       "      )\n",
       "      (1): Bottleneck(\n",
       "        (conv1): Conv2d(1024, 256, kernel_size=(1, 1), stride=(1, 1), bias=False)\n",
       "        (bn1): BatchNorm2d(256, eps=1e-05, momentum=0.1, affine=True, track_running_stats=True)\n",
       "        (conv2): Conv2d(256, 256, kernel_size=(3, 3), stride=(1, 1), padding=(1, 1), bias=False)\n",
       "        (bn2): BatchNorm2d(256, eps=1e-05, momentum=0.1, affine=True, track_running_stats=True)\n",
       "        (conv3): Conv2d(256, 1024, kernel_size=(1, 1), stride=(1, 1), bias=False)\n",
       "        (bn3): BatchNorm2d(1024, eps=1e-05, momentum=0.1, affine=True, track_running_stats=True)\n",
       "        (relu): ReLU(inplace=True)\n",
       "      )\n",
       "      (2): Bottleneck(\n",
       "        (conv1): Conv2d(1024, 256, kernel_size=(1, 1), stride=(1, 1), bias=False)\n",
       "        (bn1): BatchNorm2d(256, eps=1e-05, momentum=0.1, affine=True, track_running_stats=True)\n",
       "        (conv2): Conv2d(256, 256, kernel_size=(3, 3), stride=(1, 1), padding=(1, 1), bias=False)\n",
       "        (bn2): BatchNorm2d(256, eps=1e-05, momentum=0.1, affine=True, track_running_stats=True)\n",
       "        (conv3): Conv2d(256, 1024, kernel_size=(1, 1), stride=(1, 1), bias=False)\n",
       "        (bn3): BatchNorm2d(1024, eps=1e-05, momentum=0.1, affine=True, track_running_stats=True)\n",
       "        (relu): ReLU(inplace=True)\n",
       "      )\n",
       "      (3): Bottleneck(\n",
       "        (conv1): Conv2d(1024, 256, kernel_size=(1, 1), stride=(1, 1), bias=False)\n",
       "        (bn1): BatchNorm2d(256, eps=1e-05, momentum=0.1, affine=True, track_running_stats=True)\n",
       "        (conv2): Conv2d(256, 256, kernel_size=(3, 3), stride=(1, 1), padding=(1, 1), bias=False)\n",
       "        (bn2): BatchNorm2d(256, eps=1e-05, momentum=0.1, affine=True, track_running_stats=True)\n",
       "        (conv3): Conv2d(256, 1024, kernel_size=(1, 1), stride=(1, 1), bias=False)\n",
       "        (bn3): BatchNorm2d(1024, eps=1e-05, momentum=0.1, affine=True, track_running_stats=True)\n",
       "        (relu): ReLU(inplace=True)\n",
       "      )\n",
       "      (4): Bottleneck(\n",
       "        (conv1): Conv2d(1024, 256, kernel_size=(1, 1), stride=(1, 1), bias=False)\n",
       "        (bn1): BatchNorm2d(256, eps=1e-05, momentum=0.1, affine=True, track_running_stats=True)\n",
       "        (conv2): Conv2d(256, 256, kernel_size=(3, 3), stride=(1, 1), padding=(1, 1), bias=False)\n",
       "        (bn2): BatchNorm2d(256, eps=1e-05, momentum=0.1, affine=True, track_running_stats=True)\n",
       "        (conv3): Conv2d(256, 1024, kernel_size=(1, 1), stride=(1, 1), bias=False)\n",
       "        (bn3): BatchNorm2d(1024, eps=1e-05, momentum=0.1, affine=True, track_running_stats=True)\n",
       "        (relu): ReLU(inplace=True)\n",
       "      )\n",
       "      (5): Bottleneck(\n",
       "        (conv1): Conv2d(1024, 256, kernel_size=(1, 1), stride=(1, 1), bias=False)\n",
       "        (bn1): BatchNorm2d(256, eps=1e-05, momentum=0.1, affine=True, track_running_stats=True)\n",
       "        (conv2): Conv2d(256, 256, kernel_size=(3, 3), stride=(1, 1), padding=(1, 1), bias=False)\n",
       "        (bn2): BatchNorm2d(256, eps=1e-05, momentum=0.1, affine=True, track_running_stats=True)\n",
       "        (conv3): Conv2d(256, 1024, kernel_size=(1, 1), stride=(1, 1), bias=False)\n",
       "        (bn3): BatchNorm2d(1024, eps=1e-05, momentum=0.1, affine=True, track_running_stats=True)\n",
       "        (relu): ReLU(inplace=True)\n",
       "      )\n",
       "    )\n",
       "    (layer4): Sequential(\n",
       "      (0): Bottleneck(\n",
       "        (conv1): Conv2d(1024, 512, kernel_size=(1, 1), stride=(1, 1), bias=False)\n",
       "        (bn1): BatchNorm2d(512, eps=1e-05, momentum=0.1, affine=True, track_running_stats=True)\n",
       "        (conv2): Conv2d(512, 512, kernel_size=(3, 3), stride=(2, 2), padding=(1, 1), bias=False)\n",
       "        (bn2): BatchNorm2d(512, eps=1e-05, momentum=0.1, affine=True, track_running_stats=True)\n",
       "        (conv3): Conv2d(512, 2048, kernel_size=(1, 1), stride=(1, 1), bias=False)\n",
       "        (bn3): BatchNorm2d(2048, eps=1e-05, momentum=0.1, affine=True, track_running_stats=True)\n",
       "        (relu): ReLU(inplace=True)\n",
       "        (downsample): Sequential(\n",
       "          (0): Conv2d(1024, 2048, kernel_size=(1, 1), stride=(2, 2), bias=False)\n",
       "          (1): BatchNorm2d(2048, eps=1e-05, momentum=0.1, affine=True, track_running_stats=True)\n",
       "        )\n",
       "      )\n",
       "      (1): Bottleneck(\n",
       "        (conv1): Conv2d(2048, 512, kernel_size=(1, 1), stride=(1, 1), bias=False)\n",
       "        (bn1): BatchNorm2d(512, eps=1e-05, momentum=0.1, affine=True, track_running_stats=True)\n",
       "        (conv2): Conv2d(512, 512, kernel_size=(3, 3), stride=(1, 1), padding=(1, 1), bias=False)\n",
       "        (bn2): BatchNorm2d(512, eps=1e-05, momentum=0.1, affine=True, track_running_stats=True)\n",
       "        (conv3): Conv2d(512, 2048, kernel_size=(1, 1), stride=(1, 1), bias=False)\n",
       "        (bn3): BatchNorm2d(2048, eps=1e-05, momentum=0.1, affine=True, track_running_stats=True)\n",
       "        (relu): ReLU(inplace=True)\n",
       "      )\n",
       "      (2): Bottleneck(\n",
       "        (conv1): Conv2d(2048, 512, kernel_size=(1, 1), stride=(1, 1), bias=False)\n",
       "        (bn1): BatchNorm2d(512, eps=1e-05, momentum=0.1, affine=True, track_running_stats=True)\n",
       "        (conv2): Conv2d(512, 512, kernel_size=(3, 3), stride=(1, 1), padding=(1, 1), bias=False)\n",
       "        (bn2): BatchNorm2d(512, eps=1e-05, momentum=0.1, affine=True, track_running_stats=True)\n",
       "        (conv3): Conv2d(512, 2048, kernel_size=(1, 1), stride=(1, 1), bias=False)\n",
       "        (bn3): BatchNorm2d(2048, eps=1e-05, momentum=0.1, affine=True, track_running_stats=True)\n",
       "        (relu): ReLU(inplace=True)\n",
       "      )\n",
       "    )\n",
       "    (avgpool): AdaptiveAvgPool2d(output_size=(1, 1))\n",
       "    (fc): Linear(in_features=2048, out_features=12, bias=True)\n",
       "  )\n",
       ")"
      ]
     },
     "execution_count": 20,
     "metadata": {},
     "output_type": "execute_result"
    }
   ],
   "source": [
    "model = ResNet50().to('cuda')\n",
    "criterion = nn.CrossEntropyLoss()  # For classification tasks\n",
    "optimizer = optim.Adam(model.parameters(), lr=0.001)\n",
    "scheduler = optim.lr_scheduler.ReduceLROnPlateau(optimizer, 'min', patience=3)\n",
    "\n",
    "dataloaders = {\n",
    "    \"train\": train_loader,\n",
    "    \"val\": val_loader,\n",
    "    \"test\": test_loader\n",
    "}\n",
    "\n",
    "ds_sizes = {\n",
    "    \"train\": len(train_dataset),\n",
    "    \"val\": len(val_dataset),\n",
    "    \"test\": len(test_dataset)\n",
    "}\n",
    "\n",
    "\n",
    "train(dataloaders, ds_sizes, model, optimizer, criterion, scheduler)"
   ]
  },
  {
   "cell_type": "code",
   "execution_count": 21,
   "metadata": {},
   "outputs": [
    {
     "data": {
      "text/plain": [
       "ResNet50(\n",
       "  (resnet): ResNet(\n",
       "    (conv1): Conv2d(3, 64, kernel_size=(7, 7), stride=(2, 2), padding=(3, 3), bias=False)\n",
       "    (bn1): BatchNorm2d(64, eps=1e-05, momentum=0.1, affine=True, track_running_stats=True)\n",
       "    (relu): ReLU(inplace=True)\n",
       "    (maxpool): MaxPool2d(kernel_size=3, stride=2, padding=1, dilation=1, ceil_mode=False)\n",
       "    (layer1): Sequential(\n",
       "      (0): Bottleneck(\n",
       "        (conv1): Conv2d(64, 64, kernel_size=(1, 1), stride=(1, 1), bias=False)\n",
       "        (bn1): BatchNorm2d(64, eps=1e-05, momentum=0.1, affine=True, track_running_stats=True)\n",
       "        (conv2): Conv2d(64, 64, kernel_size=(3, 3), stride=(1, 1), padding=(1, 1), bias=False)\n",
       "        (bn2): BatchNorm2d(64, eps=1e-05, momentum=0.1, affine=True, track_running_stats=True)\n",
       "        (conv3): Conv2d(64, 256, kernel_size=(1, 1), stride=(1, 1), bias=False)\n",
       "        (bn3): BatchNorm2d(256, eps=1e-05, momentum=0.1, affine=True, track_running_stats=True)\n",
       "        (relu): ReLU(inplace=True)\n",
       "        (downsample): Sequential(\n",
       "          (0): Conv2d(64, 256, kernel_size=(1, 1), stride=(1, 1), bias=False)\n",
       "          (1): BatchNorm2d(256, eps=1e-05, momentum=0.1, affine=True, track_running_stats=True)\n",
       "        )\n",
       "      )\n",
       "      (1): Bottleneck(\n",
       "        (conv1): Conv2d(256, 64, kernel_size=(1, 1), stride=(1, 1), bias=False)\n",
       "        (bn1): BatchNorm2d(64, eps=1e-05, momentum=0.1, affine=True, track_running_stats=True)\n",
       "        (conv2): Conv2d(64, 64, kernel_size=(3, 3), stride=(1, 1), padding=(1, 1), bias=False)\n",
       "        (bn2): BatchNorm2d(64, eps=1e-05, momentum=0.1, affine=True, track_running_stats=True)\n",
       "        (conv3): Conv2d(64, 256, kernel_size=(1, 1), stride=(1, 1), bias=False)\n",
       "        (bn3): BatchNorm2d(256, eps=1e-05, momentum=0.1, affine=True, track_running_stats=True)\n",
       "        (relu): ReLU(inplace=True)\n",
       "      )\n",
       "      (2): Bottleneck(\n",
       "        (conv1): Conv2d(256, 64, kernel_size=(1, 1), stride=(1, 1), bias=False)\n",
       "        (bn1): BatchNorm2d(64, eps=1e-05, momentum=0.1, affine=True, track_running_stats=True)\n",
       "        (conv2): Conv2d(64, 64, kernel_size=(3, 3), stride=(1, 1), padding=(1, 1), bias=False)\n",
       "        (bn2): BatchNorm2d(64, eps=1e-05, momentum=0.1, affine=True, track_running_stats=True)\n",
       "        (conv3): Conv2d(64, 256, kernel_size=(1, 1), stride=(1, 1), bias=False)\n",
       "        (bn3): BatchNorm2d(256, eps=1e-05, momentum=0.1, affine=True, track_running_stats=True)\n",
       "        (relu): ReLU(inplace=True)\n",
       "      )\n",
       "    )\n",
       "    (layer2): Sequential(\n",
       "      (0): Bottleneck(\n",
       "        (conv1): Conv2d(256, 128, kernel_size=(1, 1), stride=(1, 1), bias=False)\n",
       "        (bn1): BatchNorm2d(128, eps=1e-05, momentum=0.1, affine=True, track_running_stats=True)\n",
       "        (conv2): Conv2d(128, 128, kernel_size=(3, 3), stride=(2, 2), padding=(1, 1), bias=False)\n",
       "        (bn2): BatchNorm2d(128, eps=1e-05, momentum=0.1, affine=True, track_running_stats=True)\n",
       "        (conv3): Conv2d(128, 512, kernel_size=(1, 1), stride=(1, 1), bias=False)\n",
       "        (bn3): BatchNorm2d(512, eps=1e-05, momentum=0.1, affine=True, track_running_stats=True)\n",
       "        (relu): ReLU(inplace=True)\n",
       "        (downsample): Sequential(\n",
       "          (0): Conv2d(256, 512, kernel_size=(1, 1), stride=(2, 2), bias=False)\n",
       "          (1): BatchNorm2d(512, eps=1e-05, momentum=0.1, affine=True, track_running_stats=True)\n",
       "        )\n",
       "      )\n",
       "      (1): Bottleneck(\n",
       "        (conv1): Conv2d(512, 128, kernel_size=(1, 1), stride=(1, 1), bias=False)\n",
       "        (bn1): BatchNorm2d(128, eps=1e-05, momentum=0.1, affine=True, track_running_stats=True)\n",
       "        (conv2): Conv2d(128, 128, kernel_size=(3, 3), stride=(1, 1), padding=(1, 1), bias=False)\n",
       "        (bn2): BatchNorm2d(128, eps=1e-05, momentum=0.1, affine=True, track_running_stats=True)\n",
       "        (conv3): Conv2d(128, 512, kernel_size=(1, 1), stride=(1, 1), bias=False)\n",
       "        (bn3): BatchNorm2d(512, eps=1e-05, momentum=0.1, affine=True, track_running_stats=True)\n",
       "        (relu): ReLU(inplace=True)\n",
       "      )\n",
       "      (2): Bottleneck(\n",
       "        (conv1): Conv2d(512, 128, kernel_size=(1, 1), stride=(1, 1), bias=False)\n",
       "        (bn1): BatchNorm2d(128, eps=1e-05, momentum=0.1, affine=True, track_running_stats=True)\n",
       "        (conv2): Conv2d(128, 128, kernel_size=(3, 3), stride=(1, 1), padding=(1, 1), bias=False)\n",
       "        (bn2): BatchNorm2d(128, eps=1e-05, momentum=0.1, affine=True, track_running_stats=True)\n",
       "        (conv3): Conv2d(128, 512, kernel_size=(1, 1), stride=(1, 1), bias=False)\n",
       "        (bn3): BatchNorm2d(512, eps=1e-05, momentum=0.1, affine=True, track_running_stats=True)\n",
       "        (relu): ReLU(inplace=True)\n",
       "      )\n",
       "      (3): Bottleneck(\n",
       "        (conv1): Conv2d(512, 128, kernel_size=(1, 1), stride=(1, 1), bias=False)\n",
       "        (bn1): BatchNorm2d(128, eps=1e-05, momentum=0.1, affine=True, track_running_stats=True)\n",
       "        (conv2): Conv2d(128, 128, kernel_size=(3, 3), stride=(1, 1), padding=(1, 1), bias=False)\n",
       "        (bn2): BatchNorm2d(128, eps=1e-05, momentum=0.1, affine=True, track_running_stats=True)\n",
       "        (conv3): Conv2d(128, 512, kernel_size=(1, 1), stride=(1, 1), bias=False)\n",
       "        (bn3): BatchNorm2d(512, eps=1e-05, momentum=0.1, affine=True, track_running_stats=True)\n",
       "        (relu): ReLU(inplace=True)\n",
       "      )\n",
       "    )\n",
       "    (layer3): Sequential(\n",
       "      (0): Bottleneck(\n",
       "        (conv1): Conv2d(512, 256, kernel_size=(1, 1), stride=(1, 1), bias=False)\n",
       "        (bn1): BatchNorm2d(256, eps=1e-05, momentum=0.1, affine=True, track_running_stats=True)\n",
       "        (conv2): Conv2d(256, 256, kernel_size=(3, 3), stride=(2, 2), padding=(1, 1), bias=False)\n",
       "        (bn2): BatchNorm2d(256, eps=1e-05, momentum=0.1, affine=True, track_running_stats=True)\n",
       "        (conv3): Conv2d(256, 1024, kernel_size=(1, 1), stride=(1, 1), bias=False)\n",
       "        (bn3): BatchNorm2d(1024, eps=1e-05, momentum=0.1, affine=True, track_running_stats=True)\n",
       "        (relu): ReLU(inplace=True)\n",
       "        (downsample): Sequential(\n",
       "          (0): Conv2d(512, 1024, kernel_size=(1, 1), stride=(2, 2), bias=False)\n",
       "          (1): BatchNorm2d(1024, eps=1e-05, momentum=0.1, affine=True, track_running_stats=True)\n",
       "        )\n",
       "      )\n",
       "      (1): Bottleneck(\n",
       "        (conv1): Conv2d(1024, 256, kernel_size=(1, 1), stride=(1, 1), bias=False)\n",
       "        (bn1): BatchNorm2d(256, eps=1e-05, momentum=0.1, affine=True, track_running_stats=True)\n",
       "        (conv2): Conv2d(256, 256, kernel_size=(3, 3), stride=(1, 1), padding=(1, 1), bias=False)\n",
       "        (bn2): BatchNorm2d(256, eps=1e-05, momentum=0.1, affine=True, track_running_stats=True)\n",
       "        (conv3): Conv2d(256, 1024, kernel_size=(1, 1), stride=(1, 1), bias=False)\n",
       "        (bn3): BatchNorm2d(1024, eps=1e-05, momentum=0.1, affine=True, track_running_stats=True)\n",
       "        (relu): ReLU(inplace=True)\n",
       "      )\n",
       "      (2): Bottleneck(\n",
       "        (conv1): Conv2d(1024, 256, kernel_size=(1, 1), stride=(1, 1), bias=False)\n",
       "        (bn1): BatchNorm2d(256, eps=1e-05, momentum=0.1, affine=True, track_running_stats=True)\n",
       "        (conv2): Conv2d(256, 256, kernel_size=(3, 3), stride=(1, 1), padding=(1, 1), bias=False)\n",
       "        (bn2): BatchNorm2d(256, eps=1e-05, momentum=0.1, affine=True, track_running_stats=True)\n",
       "        (conv3): Conv2d(256, 1024, kernel_size=(1, 1), stride=(1, 1), bias=False)\n",
       "        (bn3): BatchNorm2d(1024, eps=1e-05, momentum=0.1, affine=True, track_running_stats=True)\n",
       "        (relu): ReLU(inplace=True)\n",
       "      )\n",
       "      (3): Bottleneck(\n",
       "        (conv1): Conv2d(1024, 256, kernel_size=(1, 1), stride=(1, 1), bias=False)\n",
       "        (bn1): BatchNorm2d(256, eps=1e-05, momentum=0.1, affine=True, track_running_stats=True)\n",
       "        (conv2): Conv2d(256, 256, kernel_size=(3, 3), stride=(1, 1), padding=(1, 1), bias=False)\n",
       "        (bn2): BatchNorm2d(256, eps=1e-05, momentum=0.1, affine=True, track_running_stats=True)\n",
       "        (conv3): Conv2d(256, 1024, kernel_size=(1, 1), stride=(1, 1), bias=False)\n",
       "        (bn3): BatchNorm2d(1024, eps=1e-05, momentum=0.1, affine=True, track_running_stats=True)\n",
       "        (relu): ReLU(inplace=True)\n",
       "      )\n",
       "      (4): Bottleneck(\n",
       "        (conv1): Conv2d(1024, 256, kernel_size=(1, 1), stride=(1, 1), bias=False)\n",
       "        (bn1): BatchNorm2d(256, eps=1e-05, momentum=0.1, affine=True, track_running_stats=True)\n",
       "        (conv2): Conv2d(256, 256, kernel_size=(3, 3), stride=(1, 1), padding=(1, 1), bias=False)\n",
       "        (bn2): BatchNorm2d(256, eps=1e-05, momentum=0.1, affine=True, track_running_stats=True)\n",
       "        (conv3): Conv2d(256, 1024, kernel_size=(1, 1), stride=(1, 1), bias=False)\n",
       "        (bn3): BatchNorm2d(1024, eps=1e-05, momentum=0.1, affine=True, track_running_stats=True)\n",
       "        (relu): ReLU(inplace=True)\n",
       "      )\n",
       "      (5): Bottleneck(\n",
       "        (conv1): Conv2d(1024, 256, kernel_size=(1, 1), stride=(1, 1), bias=False)\n",
       "        (bn1): BatchNorm2d(256, eps=1e-05, momentum=0.1, affine=True, track_running_stats=True)\n",
       "        (conv2): Conv2d(256, 256, kernel_size=(3, 3), stride=(1, 1), padding=(1, 1), bias=False)\n",
       "        (bn2): BatchNorm2d(256, eps=1e-05, momentum=0.1, affine=True, track_running_stats=True)\n",
       "        (conv3): Conv2d(256, 1024, kernel_size=(1, 1), stride=(1, 1), bias=False)\n",
       "        (bn3): BatchNorm2d(1024, eps=1e-05, momentum=0.1, affine=True, track_running_stats=True)\n",
       "        (relu): ReLU(inplace=True)\n",
       "      )\n",
       "    )\n",
       "    (layer4): Sequential(\n",
       "      (0): Bottleneck(\n",
       "        (conv1): Conv2d(1024, 512, kernel_size=(1, 1), stride=(1, 1), bias=False)\n",
       "        (bn1): BatchNorm2d(512, eps=1e-05, momentum=0.1, affine=True, track_running_stats=True)\n",
       "        (conv2): Conv2d(512, 512, kernel_size=(3, 3), stride=(2, 2), padding=(1, 1), bias=False)\n",
       "        (bn2): BatchNorm2d(512, eps=1e-05, momentum=0.1, affine=True, track_running_stats=True)\n",
       "        (conv3): Conv2d(512, 2048, kernel_size=(1, 1), stride=(1, 1), bias=False)\n",
       "        (bn3): BatchNorm2d(2048, eps=1e-05, momentum=0.1, affine=True, track_running_stats=True)\n",
       "        (relu): ReLU(inplace=True)\n",
       "        (downsample): Sequential(\n",
       "          (0): Conv2d(1024, 2048, kernel_size=(1, 1), stride=(2, 2), bias=False)\n",
       "          (1): BatchNorm2d(2048, eps=1e-05, momentum=0.1, affine=True, track_running_stats=True)\n",
       "        )\n",
       "      )\n",
       "      (1): Bottleneck(\n",
       "        (conv1): Conv2d(2048, 512, kernel_size=(1, 1), stride=(1, 1), bias=False)\n",
       "        (bn1): BatchNorm2d(512, eps=1e-05, momentum=0.1, affine=True, track_running_stats=True)\n",
       "        (conv2): Conv2d(512, 512, kernel_size=(3, 3), stride=(1, 1), padding=(1, 1), bias=False)\n",
       "        (bn2): BatchNorm2d(512, eps=1e-05, momentum=0.1, affine=True, track_running_stats=True)\n",
       "        (conv3): Conv2d(512, 2048, kernel_size=(1, 1), stride=(1, 1), bias=False)\n",
       "        (bn3): BatchNorm2d(2048, eps=1e-05, momentum=0.1, affine=True, track_running_stats=True)\n",
       "        (relu): ReLU(inplace=True)\n",
       "      )\n",
       "      (2): Bottleneck(\n",
       "        (conv1): Conv2d(2048, 512, kernel_size=(1, 1), stride=(1, 1), bias=False)\n",
       "        (bn1): BatchNorm2d(512, eps=1e-05, momentum=0.1, affine=True, track_running_stats=True)\n",
       "        (conv2): Conv2d(512, 512, kernel_size=(3, 3), stride=(1, 1), padding=(1, 1), bias=False)\n",
       "        (bn2): BatchNorm2d(512, eps=1e-05, momentum=0.1, affine=True, track_running_stats=True)\n",
       "        (conv3): Conv2d(512, 2048, kernel_size=(1, 1), stride=(1, 1), bias=False)\n",
       "        (bn3): BatchNorm2d(2048, eps=1e-05, momentum=0.1, affine=True, track_running_stats=True)\n",
       "        (relu): ReLU(inplace=True)\n",
       "      )\n",
       "    )\n",
       "    (avgpool): AdaptiveAvgPool2d(output_size=(1, 1))\n",
       "    (fc): Linear(in_features=2048, out_features=12, bias=True)\n",
       "  )\n",
       ")"
      ]
     },
     "execution_count": 21,
     "metadata": {},
     "output_type": "execute_result"
    }
   ],
   "source": [
    "model.eval()"
   ]
  },
  {
   "cell_type": "code",
   "execution_count": null,
   "metadata": {},
   "outputs": [
    {
     "name": "stdout",
     "output_type": "stream",
     "text": [
      "predicted: tensor([4], device='cuda:0'), actual: tensor([4], device='cuda:0', dtype=torch.int32)\n",
      "predicted: tensor([4], device='cuda:0'), actual: tensor([4], device='cuda:0', dtype=torch.int32)\n",
      "predicted: tensor([4], device='cuda:0'), actual: tensor([4], device='cuda:0', dtype=torch.int32)\n",
      "predicted: tensor([4], device='cuda:0'), actual: tensor([4], device='cuda:0', dtype=torch.int32)\n",
      "predicted: tensor([4], device='cuda:0'), actual: tensor([4], device='cuda:0', dtype=torch.int32)\n",
      "predicted: tensor([4], device='cuda:0'), actual: tensor([4], device='cuda:0', dtype=torch.int32)\n",
      "predicted: tensor([4], device='cuda:0'), actual: tensor([4], device='cuda:0', dtype=torch.int32)\n",
      "predicted: tensor([4], device='cuda:0'), actual: tensor([4], device='cuda:0', dtype=torch.int32)\n",
      "predicted: tensor([4], device='cuda:0'), actual: tensor([4], device='cuda:0', dtype=torch.int32)\n",
      "predicted: tensor([4], device='cuda:0'), actual: tensor([4], device='cuda:0', dtype=torch.int32)\n",
      "predicted: tensor([4], device='cuda:0'), actual: tensor([4], device='cuda:0', dtype=torch.int32)\n",
      "predicted: tensor([4], device='cuda:0'), actual: tensor([4], device='cuda:0', dtype=torch.int32)\n",
      "predicted: tensor([4], device='cuda:0'), actual: tensor([4], device='cuda:0', dtype=torch.int32)\n",
      "predicted: tensor([4], device='cuda:0'), actual: tensor([4], device='cuda:0', dtype=torch.int32)\n",
      "predicted: tensor([4], device='cuda:0'), actual: tensor([4], device='cuda:0', dtype=torch.int32)\n",
      "predicted: tensor([10], device='cuda:0'), actual: tensor([10], device='cuda:0', dtype=torch.int32)\n",
      "predicted: tensor([10], device='cuda:0'), actual: tensor([10], device='cuda:0', dtype=torch.int32)\n",
      "predicted: tensor([10], device='cuda:0'), actual: tensor([10], device='cuda:0', dtype=torch.int32)\n",
      "predicted: tensor([10], device='cuda:0'), actual: tensor([10], device='cuda:0', dtype=torch.int32)\n",
      "predicted: tensor([10], device='cuda:0'), actual: tensor([10], device='cuda:0', dtype=torch.int32)\n",
      "predicted: tensor([10], device='cuda:0'), actual: tensor([10], device='cuda:0', dtype=torch.int32)\n",
      "predicted: tensor([10], device='cuda:0'), actual: tensor([10], device='cuda:0', dtype=torch.int32)\n",
      "predicted: tensor([10], device='cuda:0'), actual: tensor([10], device='cuda:0', dtype=torch.int32)\n",
      "predicted: tensor([10], device='cuda:0'), actual: tensor([10], device='cuda:0', dtype=torch.int32)\n",
      "predicted: tensor([10], device='cuda:0'), actual: tensor([10], device='cuda:0', dtype=torch.int32)\n",
      "predicted: tensor([10], device='cuda:0'), actual: tensor([10], device='cuda:0', dtype=torch.int32)\n",
      "predicted: tensor([10], device='cuda:0'), actual: tensor([10], device='cuda:0', dtype=torch.int32)\n",
      "predicted: tensor([10], device='cuda:0'), actual: tensor([10], device='cuda:0', dtype=torch.int32)\n",
      "predicted: tensor([10], device='cuda:0'), actual: tensor([10], device='cuda:0', dtype=torch.int32)\n",
      "predicted: tensor([10], device='cuda:0'), actual: tensor([10], device='cuda:0', dtype=torch.int32)\n",
      "predicted: tensor([10], device='cuda:0'), actual: tensor([10], device='cuda:0', dtype=torch.int32)\n",
      "predicted: tensor([4], device='cuda:0'), actual: tensor([4], device='cuda:0', dtype=torch.int32)\n",
      "predicted: tensor([4], device='cuda:0'), actual: tensor([4], device='cuda:0', dtype=torch.int32)\n",
      "predicted: tensor([4], device='cuda:0'), actual: tensor([4], device='cuda:0', dtype=torch.int32)\n",
      "predicted: tensor([4], device='cuda:0'), actual: tensor([4], device='cuda:0', dtype=torch.int32)\n",
      "predicted: tensor([4], device='cuda:0'), actual: tensor([4], device='cuda:0', dtype=torch.int32)\n",
      "predicted: tensor([4], device='cuda:0'), actual: tensor([4], device='cuda:0', dtype=torch.int32)\n",
      "predicted: tensor([4], device='cuda:0'), actual: tensor([4], device='cuda:0', dtype=torch.int32)\n",
      "predicted: tensor([4], device='cuda:0'), actual: tensor([4], device='cuda:0', dtype=torch.int32)\n",
      "predicted: tensor([4], device='cuda:0'), actual: tensor([4], device='cuda:0', dtype=torch.int32)\n",
      "predicted: tensor([4], device='cuda:0'), actual: tensor([4], device='cuda:0', dtype=torch.int32)\n",
      "predicted: tensor([4], device='cuda:0'), actual: tensor([4], device='cuda:0', dtype=torch.int32)\n",
      "predicted: tensor([4], device='cuda:0'), actual: tensor([4], device='cuda:0', dtype=torch.int32)\n",
      "predicted: tensor([4], device='cuda:0'), actual: tensor([4], device='cuda:0', dtype=torch.int32)\n",
      "predicted: tensor([6], device='cuda:0'), actual: tensor([6], device='cuda:0', dtype=torch.int32)\n",
      "predicted: tensor([6], device='cuda:0'), actual: tensor([6], device='cuda:0', dtype=torch.int32)\n",
      "predicted: tensor([6], device='cuda:0'), actual: tensor([6], device='cuda:0', dtype=torch.int32)\n",
      "predicted: tensor([6], device='cuda:0'), actual: tensor([6], device='cuda:0', dtype=torch.int32)\n",
      "predicted: tensor([6], device='cuda:0'), actual: tensor([6], device='cuda:0', dtype=torch.int32)\n",
      "predicted: tensor([6], device='cuda:0'), actual: tensor([6], device='cuda:0', dtype=torch.int32)\n",
      "predicted: tensor([6], device='cuda:0'), actual: tensor([6], device='cuda:0', dtype=torch.int32)\n",
      "predicted: tensor([6], device='cuda:0'), actual: tensor([6], device='cuda:0', dtype=torch.int32)\n",
      "predicted: tensor([6], device='cuda:0'), actual: tensor([6], device='cuda:0', dtype=torch.int32)\n",
      "predicted: tensor([6], device='cuda:0'), actual: tensor([6], device='cuda:0', dtype=torch.int32)\n",
      "predicted: tensor([6], device='cuda:0'), actual: tensor([6], device='cuda:0', dtype=torch.int32)\n",
      "predicted: tensor([6], device='cuda:0'), actual: tensor([6], device='cuda:0', dtype=torch.int32)\n",
      "predicted: tensor([6], device='cuda:0'), actual: tensor([6], device='cuda:0', dtype=torch.int32)\n",
      "predicted: tensor([6], device='cuda:0'), actual: tensor([6], device='cuda:0', dtype=torch.int32)\n",
      "predicted: tensor([6], device='cuda:0'), actual: tensor([6], device='cuda:0', dtype=torch.int32)\n",
      "predicted: tensor([10], device='cuda:0'), actual: tensor([10], device='cuda:0', dtype=torch.int32)\n",
      "predicted: tensor([10], device='cuda:0'), actual: tensor([10], device='cuda:0', dtype=torch.int32)\n",
      "predicted: tensor([10], device='cuda:0'), actual: tensor([10], device='cuda:0', dtype=torch.int32)\n",
      "predicted: tensor([10], device='cuda:0'), actual: tensor([10], device='cuda:0', dtype=torch.int32)\n",
      "predicted: tensor([10], device='cuda:0'), actual: tensor([10], device='cuda:0', dtype=torch.int32)\n",
      "predicted: tensor([10], device='cuda:0'), actual: tensor([10], device='cuda:0', dtype=torch.int32)\n",
      "predicted: tensor([10], device='cuda:0'), actual: tensor([10], device='cuda:0', dtype=torch.int32)\n",
      "predicted: tensor([10], device='cuda:0'), actual: tensor([10], device='cuda:0', dtype=torch.int32)\n",
      "predicted: tensor([10], device='cuda:0'), actual: tensor([10], device='cuda:0', dtype=torch.int32)\n",
      "predicted: tensor([10], device='cuda:0'), actual: tensor([10], device='cuda:0', dtype=torch.int32)\n",
      "predicted: tensor([10], device='cuda:0'), actual: tensor([10], device='cuda:0', dtype=torch.int32)\n",
      "predicted: tensor([10], device='cuda:0'), actual: tensor([10], device='cuda:0', dtype=torch.int32)\n",
      "predicted: tensor([10], device='cuda:0'), actual: tensor([10], device='cuda:0', dtype=torch.int32)\n",
      "predicted: tensor([10], device='cuda:0'), actual: tensor([10], device='cuda:0', dtype=torch.int32)\n",
      "predicted: tensor([10], device='cuda:0'), actual: tensor([10], device='cuda:0', dtype=torch.int32)\n",
      "predicted: tensor([5], device='cuda:0'), actual: tensor([5], device='cuda:0', dtype=torch.int32)\n",
      "predicted: tensor([5], device='cuda:0'), actual: tensor([5], device='cuda:0', dtype=torch.int32)\n",
      "predicted: tensor([5], device='cuda:0'), actual: tensor([5], device='cuda:0', dtype=torch.int32)\n",
      "predicted: tensor([5], device='cuda:0'), actual: tensor([5], device='cuda:0', dtype=torch.int32)\n",
      "predicted: tensor([5], device='cuda:0'), actual: tensor([5], device='cuda:0', dtype=torch.int32)\n",
      "predicted: tensor([5], device='cuda:0'), actual: tensor([5], device='cuda:0', dtype=torch.int32)\n",
      "predicted: tensor([5], device='cuda:0'), actual: tensor([5], device='cuda:0', dtype=torch.int32)\n",
      "predicted: tensor([5], device='cuda:0'), actual: tensor([5], device='cuda:0', dtype=torch.int32)\n",
      "predicted: tensor([5], device='cuda:0'), actual: tensor([5], device='cuda:0', dtype=torch.int32)\n",
      "predicted: tensor([5], device='cuda:0'), actual: tensor([5], device='cuda:0', dtype=torch.int32)\n",
      "predicted: tensor([5], device='cuda:0'), actual: tensor([5], device='cuda:0', dtype=torch.int32)\n",
      "predicted: tensor([5], device='cuda:0'), actual: tensor([5], device='cuda:0', dtype=torch.int32)\n",
      "predicted: tensor([5], device='cuda:0'), actual: tensor([5], device='cuda:0', dtype=torch.int32)\n",
      "predicted: tensor([5], device='cuda:0'), actual: tensor([5], device='cuda:0', dtype=torch.int32)\n",
      "predicted: tensor([5], device='cuda:0'), actual: tensor([5], device='cuda:0', dtype=torch.int32)\n",
      "predicted: tensor([11], device='cuda:0'), actual: tensor([11], device='cuda:0', dtype=torch.int32)\n",
      "predicted: tensor([11], device='cuda:0'), actual: tensor([11], device='cuda:0', dtype=torch.int32)\n",
      "predicted: tensor([11], device='cuda:0'), actual: tensor([11], device='cuda:0', dtype=torch.int32)\n",
      "predicted: tensor([11], device='cuda:0'), actual: tensor([11], device='cuda:0', dtype=torch.int32)\n",
      "predicted: tensor([11], device='cuda:0'), actual: tensor([11], device='cuda:0', dtype=torch.int32)\n",
      "predicted: tensor([11], device='cuda:0'), actual: tensor([11], device='cuda:0', dtype=torch.int32)\n",
      "predicted: tensor([11], device='cuda:0'), actual: tensor([11], device='cuda:0', dtype=torch.int32)\n",
      "predicted: tensor([11], device='cuda:0'), actual: tensor([11], device='cuda:0', dtype=torch.int32)\n",
      "predicted: tensor([11], device='cuda:0'), actual: tensor([11], device='cuda:0', dtype=torch.int32)\n",
      "predicted: tensor([11], device='cuda:0'), actual: tensor([11], device='cuda:0', dtype=torch.int32)\n",
      "predicted: tensor([11], device='cuda:0'), actual: tensor([11], device='cuda:0', dtype=torch.int32)\n",
      "predicted: tensor([11], device='cuda:0'), actual: tensor([11], device='cuda:0', dtype=torch.int32)\n",
      "predicted: tensor([11], device='cuda:0'), actual: tensor([11], device='cuda:0', dtype=torch.int32)\n",
      "predicted: tensor([11], device='cuda:0'), actual: tensor([11], device='cuda:0', dtype=torch.int32)\n",
      "predicted: tensor([11], device='cuda:0'), actual: tensor([11], device='cuda:0', dtype=torch.int32)\n",
      "predicted: tensor([11], device='cuda:0'), actual: tensor([11], device='cuda:0', dtype=torch.int32)\n",
      "predicted: tensor([11], device='cuda:0'), actual: tensor([11], device='cuda:0', dtype=torch.int32)\n",
      "predicted: tensor([7], device='cuda:0'), actual: tensor([7], device='cuda:0', dtype=torch.int32)\n",
      "predicted: tensor([7], device='cuda:0'), actual: tensor([7], device='cuda:0', dtype=torch.int32)\n",
      "predicted: tensor([7], device='cuda:0'), actual: tensor([7], device='cuda:0', dtype=torch.int32)\n",
      "predicted: tensor([7], device='cuda:0'), actual: tensor([7], device='cuda:0', dtype=torch.int32)\n",
      "predicted: tensor([7], device='cuda:0'), actual: tensor([7], device='cuda:0', dtype=torch.int32)\n",
      "predicted: tensor([7], device='cuda:0'), actual: tensor([7], device='cuda:0', dtype=torch.int32)\n",
      "predicted: tensor([7], device='cuda:0'), actual: tensor([7], device='cuda:0', dtype=torch.int32)\n",
      "predicted: tensor([7], device='cuda:0'), actual: tensor([7], device='cuda:0', dtype=torch.int32)\n",
      "predicted: tensor([7], device='cuda:0'), actual: tensor([7], device='cuda:0', dtype=torch.int32)\n",
      "predicted: tensor([7], device='cuda:0'), actual: tensor([7], device='cuda:0', dtype=torch.int32)\n",
      "predicted: tensor([7], device='cuda:0'), actual: tensor([7], device='cuda:0', dtype=torch.int32)\n",
      "predicted: tensor([7], device='cuda:0'), actual: tensor([7], device='cuda:0', dtype=torch.int32)\n",
      "predicted: tensor([7], device='cuda:0'), actual: tensor([7], device='cuda:0', dtype=torch.int32)\n",
      "predicted: tensor([7], device='cuda:0'), actual: tensor([7], device='cuda:0', dtype=torch.int32)\n",
      "predicted: tensor([7], device='cuda:0'), actual: tensor([7], device='cuda:0', dtype=torch.int32)\n",
      "predicted: tensor([7], device='cuda:0'), actual: tensor([7], device='cuda:0', dtype=torch.int32)\n",
      "predicted: tensor([7], device='cuda:0'), actual: tensor([7], device='cuda:0', dtype=torch.int32)\n",
      "predicted: tensor([7], device='cuda:0'), actual: tensor([7], device='cuda:0', dtype=torch.int32)\n",
      "predicted: tensor([4], device='cuda:0'), actual: tensor([4], device='cuda:0', dtype=torch.int32)\n",
      "predicted: tensor([4], device='cuda:0'), actual: tensor([4], device='cuda:0', dtype=torch.int32)\n",
      "predicted: tensor([4], device='cuda:0'), actual: tensor([4], device='cuda:0', dtype=torch.int32)\n",
      "predicted: tensor([4], device='cuda:0'), actual: tensor([4], device='cuda:0', dtype=torch.int32)\n",
      "predicted: tensor([4], device='cuda:0'), actual: tensor([4], device='cuda:0', dtype=torch.int32)\n",
      "predicted: tensor([4], device='cuda:0'), actual: tensor([4], device='cuda:0', dtype=torch.int32)\n",
      "predicted: tensor([4], device='cuda:0'), actual: tensor([4], device='cuda:0', dtype=torch.int32)\n",
      "predicted: tensor([4], device='cuda:0'), actual: tensor([4], device='cuda:0', dtype=torch.int32)\n",
      "predicted: tensor([4], device='cuda:0'), actual: tensor([4], device='cuda:0', dtype=torch.int32)\n",
      "predicted: tensor([4], device='cuda:0'), actual: tensor([4], device='cuda:0', dtype=torch.int32)\n",
      "predicted: tensor([4], device='cuda:0'), actual: tensor([4], device='cuda:0', dtype=torch.int32)\n",
      "predicted: tensor([4], device='cuda:0'), actual: tensor([4], device='cuda:0', dtype=torch.int32)\n",
      "predicted: tensor([4], device='cuda:0'), actual: tensor([4], device='cuda:0', dtype=torch.int32)\n",
      "predicted: tensor([4], device='cuda:0'), actual: tensor([4], device='cuda:0', dtype=torch.int32)\n",
      "predicted: tensor([4], device='cuda:0'), actual: tensor([4], device='cuda:0', dtype=torch.int32)\n",
      "predicted: tensor([8], device='cuda:0'), actual: tensor([8], device='cuda:0', dtype=torch.int32)\n",
      "predicted: tensor([8], device='cuda:0'), actual: tensor([8], device='cuda:0', dtype=torch.int32)\n",
      "predicted: tensor([8], device='cuda:0'), actual: tensor([8], device='cuda:0', dtype=torch.int32)\n",
      "predicted: tensor([8], device='cuda:0'), actual: tensor([8], device='cuda:0', dtype=torch.int32)\n",
      "predicted: tensor([8], device='cuda:0'), actual: tensor([8], device='cuda:0', dtype=torch.int32)\n",
      "predicted: tensor([8], device='cuda:0'), actual: tensor([8], device='cuda:0', dtype=torch.int32)\n",
      "predicted: tensor([8], device='cuda:0'), actual: tensor([8], device='cuda:0', dtype=torch.int32)\n",
      "predicted: tensor([8], device='cuda:0'), actual: tensor([8], device='cuda:0', dtype=torch.int32)\n",
      "predicted: tensor([8], device='cuda:0'), actual: tensor([8], device='cuda:0', dtype=torch.int32)\n",
      "predicted: tensor([8], device='cuda:0'), actual: tensor([8], device='cuda:0', dtype=torch.int32)\n",
      "predicted: tensor([8], device='cuda:0'), actual: tensor([8], device='cuda:0', dtype=torch.int32)\n",
      "predicted: tensor([8], device='cuda:0'), actual: tensor([8], device='cuda:0', dtype=torch.int32)\n",
      "predicted: tensor([8], device='cuda:0'), actual: tensor([8], device='cuda:0', dtype=torch.int32)\n",
      "predicted: tensor([8], device='cuda:0'), actual: tensor([8], device='cuda:0', dtype=torch.int32)\n",
      "predicted: tensor([8], device='cuda:0'), actual: tensor([8], device='cuda:0', dtype=torch.int32)\n",
      "predicted: tensor([2], device='cuda:0'), actual: tensor([2], device='cuda:0', dtype=torch.int32)\n",
      "predicted: tensor([2], device='cuda:0'), actual: tensor([2], device='cuda:0', dtype=torch.int32)\n",
      "predicted: tensor([2], device='cuda:0'), actual: tensor([2], device='cuda:0', dtype=torch.int32)\n",
      "predicted: tensor([2], device='cuda:0'), actual: tensor([2], device='cuda:0', dtype=torch.int32)\n",
      "predicted: tensor([2], device='cuda:0'), actual: tensor([2], device='cuda:0', dtype=torch.int32)\n",
      "predicted: tensor([2], device='cuda:0'), actual: tensor([2], device='cuda:0', dtype=torch.int32)\n",
      "predicted: tensor([2], device='cuda:0'), actual: tensor([2], device='cuda:0', dtype=torch.int32)\n",
      "predicted: tensor([2], device='cuda:0'), actual: tensor([2], device='cuda:0', dtype=torch.int32)\n",
      "predicted: tensor([2], device='cuda:0'), actual: tensor([2], device='cuda:0', dtype=torch.int32)\n",
      "predicted: tensor([2], device='cuda:0'), actual: tensor([2], device='cuda:0', dtype=torch.int32)\n",
      "predicted: tensor([2], device='cuda:0'), actual: tensor([2], device='cuda:0', dtype=torch.int32)\n",
      "predicted: tensor([2], device='cuda:0'), actual: tensor([2], device='cuda:0', dtype=torch.int32)\n",
      "predicted: tensor([2], device='cuda:0'), actual: tensor([2], device='cuda:0', dtype=torch.int32)\n",
      "predicted: tensor([2], device='cuda:0'), actual: tensor([2], device='cuda:0', dtype=torch.int32)\n",
      "predicted: tensor([2], device='cuda:0'), actual: tensor([2], device='cuda:0', dtype=torch.int32)\n",
      "predicted: tensor([2], device='cuda:0'), actual: tensor([2], device='cuda:0', dtype=torch.int32)\n",
      "predicted: tensor([2], device='cuda:0'), actual: tensor([2], device='cuda:0', dtype=torch.int32)\n",
      "predicted: tensor([2], device='cuda:0'), actual: tensor([2], device='cuda:0', dtype=torch.int32)\n",
      "predicted: tensor([2], device='cuda:0'), actual: tensor([2], device='cuda:0', dtype=torch.int32)\n",
      "predicted: tensor([2], device='cuda:0'), actual: tensor([2], device='cuda:0', dtype=torch.int32)\n",
      "predicted: tensor([2], device='cuda:0'), actual: tensor([2], device='cuda:0', dtype=torch.int32)\n",
      "predicted: tensor([2], device='cuda:0'), actual: tensor([2], device='cuda:0', dtype=torch.int32)\n",
      "predicted: tensor([2], device='cuda:0'), actual: tensor([2], device='cuda:0', dtype=torch.int32)\n",
      "predicted: tensor([2], device='cuda:0'), actual: tensor([2], device='cuda:0', dtype=torch.int32)\n",
      "predicted: tensor([2], device='cuda:0'), actual: tensor([2], device='cuda:0', dtype=torch.int32)\n",
      "predicted: tensor([2], device='cuda:0'), actual: tensor([2], device='cuda:0', dtype=torch.int32)\n",
      "predicted: tensor([2], device='cuda:0'), actual: tensor([2], device='cuda:0', dtype=torch.int32)\n",
      "predicted: tensor([2], device='cuda:0'), actual: tensor([2], device='cuda:0', dtype=torch.int32)\n",
      "predicted: tensor([2], device='cuda:0'), actual: tensor([2], device='cuda:0', dtype=torch.int32)\n",
      "predicted: tensor([0], device='cuda:0'), actual: tensor([0], device='cuda:0', dtype=torch.int32)\n",
      "predicted: tensor([0], device='cuda:0'), actual: tensor([0], device='cuda:0', dtype=torch.int32)\n",
      "predicted: tensor([0], device='cuda:0'), actual: tensor([0], device='cuda:0', dtype=torch.int32)\n",
      "predicted: tensor([0], device='cuda:0'), actual: tensor([0], device='cuda:0', dtype=torch.int32)\n",
      "predicted: tensor([0], device='cuda:0'), actual: tensor([0], device='cuda:0', dtype=torch.int32)\n",
      "predicted: tensor([0], device='cuda:0'), actual: tensor([0], device='cuda:0', dtype=torch.int32)\n",
      "predicted: tensor([0], device='cuda:0'), actual: tensor([0], device='cuda:0', dtype=torch.int32)\n",
      "predicted: tensor([0], device='cuda:0'), actual: tensor([0], device='cuda:0', dtype=torch.int32)\n",
      "predicted: tensor([0], device='cuda:0'), actual: tensor([0], device='cuda:0', dtype=torch.int32)\n",
      "predicted: tensor([0], device='cuda:0'), actual: tensor([0], device='cuda:0', dtype=torch.int32)\n",
      "predicted: tensor([0], device='cuda:0'), actual: tensor([1], device='cuda:0', dtype=torch.int32)\n",
      "predicted: tensor([0], device='cuda:0'), actual: tensor([0], device='cuda:0', dtype=torch.int32)\n",
      "predicted: tensor([0], device='cuda:0'), actual: tensor([0], device='cuda:0', dtype=torch.int32)\n",
      "predicted: tensor([0], device='cuda:0'), actual: tensor([0], device='cuda:0', dtype=torch.int32)\n",
      "predicted: tensor([0], device='cuda:0'), actual: tensor([0], device='cuda:0', dtype=torch.int32)\n",
      "predicted: tensor([0], device='cuda:0'), actual: tensor([0], device='cuda:0', dtype=torch.int32)\n",
      "predicted: tensor([0], device='cuda:0'), actual: tensor([0], device='cuda:0', dtype=torch.int32)\n",
      "predicted: tensor([0], device='cuda:0'), actual: tensor([0], device='cuda:0', dtype=torch.int32)\n",
      "predicted: tensor([0], device='cuda:0'), actual: tensor([0], device='cuda:0', dtype=torch.int32)\n",
      "predicted: tensor([0], device='cuda:0'), actual: tensor([0], device='cuda:0', dtype=torch.int32)\n",
      "predicted: tensor([0], device='cuda:0'), actual: tensor([0], device='cuda:0', dtype=torch.int32)\n",
      "predicted: tensor([1], device='cuda:0'), actual: tensor([1], device='cuda:0', dtype=torch.int32)\n",
      "predicted: tensor([1], device='cuda:0'), actual: tensor([1], device='cuda:0', dtype=torch.int32)\n",
      "predicted: tensor([1], device='cuda:0'), actual: tensor([1], device='cuda:0', dtype=torch.int32)\n",
      "predicted: tensor([1], device='cuda:0'), actual: tensor([1], device='cuda:0', dtype=torch.int32)\n",
      "predicted: tensor([1], device='cuda:0'), actual: tensor([1], device='cuda:0', dtype=torch.int32)\n",
      "predicted: tensor([1], device='cuda:0'), actual: tensor([1], device='cuda:0', dtype=torch.int32)\n",
      "predicted: tensor([1], device='cuda:0'), actual: tensor([1], device='cuda:0', dtype=torch.int32)\n",
      "predicted: tensor([1], device='cuda:0'), actual: tensor([1], device='cuda:0', dtype=torch.int32)\n",
      "predicted: tensor([1], device='cuda:0'), actual: tensor([1], device='cuda:0', dtype=torch.int32)\n",
      "predicted: tensor([1], device='cuda:0'), actual: tensor([1], device='cuda:0', dtype=torch.int32)\n",
      "predicted: tensor([1], device='cuda:0'), actual: tensor([1], device='cuda:0', dtype=torch.int32)\n",
      "predicted: tensor([9], device='cuda:0'), actual: tensor([9], device='cuda:0', dtype=torch.int32)\n",
      "predicted: tensor([9], device='cuda:0'), actual: tensor([9], device='cuda:0', dtype=torch.int32)\n",
      "predicted: tensor([9], device='cuda:0'), actual: tensor([9], device='cuda:0', dtype=torch.int32)\n",
      "predicted: tensor([9], device='cuda:0'), actual: tensor([9], device='cuda:0', dtype=torch.int32)\n",
      "predicted: tensor([9], device='cuda:0'), actual: tensor([9], device='cuda:0', dtype=torch.int32)\n",
      "predicted: tensor([9], device='cuda:0'), actual: tensor([9], device='cuda:0', dtype=torch.int32)\n",
      "predicted: tensor([9], device='cuda:0'), actual: tensor([9], device='cuda:0', dtype=torch.int32)\n",
      "predicted: tensor([9], device='cuda:0'), actual: tensor([9], device='cuda:0', dtype=torch.int32)\n",
      "predicted: tensor([9], device='cuda:0'), actual: tensor([9], device='cuda:0', dtype=torch.int32)\n",
      "predicted: tensor([9], device='cuda:0'), actual: tensor([9], device='cuda:0', dtype=torch.int32)\n",
      "predicted: tensor([9], device='cuda:0'), actual: tensor([9], device='cuda:0', dtype=torch.int32)\n",
      "predicted: tensor([9], device='cuda:0'), actual: tensor([9], device='cuda:0', dtype=torch.int32)\n",
      "predicted: tensor([9], device='cuda:0'), actual: tensor([9], device='cuda:0', dtype=torch.int32)\n",
      "predicted: tensor([9], device='cuda:0'), actual: tensor([9], device='cuda:0', dtype=torch.int32)\n",
      "predicted: tensor([9], device='cuda:0'), actual: tensor([9], device='cuda:0', dtype=torch.int32)\n",
      "predicted: tensor([9], device='cuda:0'), actual: tensor([9], device='cuda:0', dtype=torch.int32)\n",
      "predicted: tensor([9], device='cuda:0'), actual: tensor([9], device='cuda:0', dtype=torch.int32)\n",
      "predicted: tensor([9], device='cuda:0'), actual: tensor([9], device='cuda:0', dtype=torch.int32)\n",
      "predicted: tensor([9], device='cuda:0'), actual: tensor([9], device='cuda:0', dtype=torch.int32)\n",
      "predicted: tensor([9], device='cuda:0'), actual: tensor([9], device='cuda:0', dtype=torch.int32)\n",
      "predicted: tensor([9], device='cuda:0'), actual: tensor([9], device='cuda:0', dtype=torch.int32)\n",
      "predicted: tensor([9], device='cuda:0'), actual: tensor([9], device='cuda:0', dtype=torch.int32)\n",
      "predicted: tensor([9], device='cuda:0'), actual: tensor([9], device='cuda:0', dtype=torch.int32)\n",
      "predicted: tensor([9], device='cuda:0'), actual: tensor([9], device='cuda:0', dtype=torch.int32)\n",
      "predicted: tensor([9], device='cuda:0'), actual: tensor([9], device='cuda:0', dtype=torch.int32)\n",
      "predicted: tensor([9], device='cuda:0'), actual: tensor([9], device='cuda:0', dtype=torch.int32)\n",
      "predicted: tensor([9], device='cuda:0'), actual: tensor([9], device='cuda:0', dtype=torch.int32)\n",
      "predicted: tensor([9], device='cuda:0'), actual: tensor([9], device='cuda:0', dtype=torch.int32)\n",
      "predicted: tensor([9], device='cuda:0'), actual: tensor([9], device='cuda:0', dtype=torch.int32)\n",
      "predicted: tensor([3], device='cuda:0'), actual: tensor([3], device='cuda:0', dtype=torch.int32)\n",
      "predicted: tensor([3], device='cuda:0'), actual: tensor([3], device='cuda:0', dtype=torch.int32)\n",
      "predicted: tensor([3], device='cuda:0'), actual: tensor([3], device='cuda:0', dtype=torch.int32)\n",
      "predicted: tensor([3], device='cuda:0'), actual: tensor([3], device='cuda:0', dtype=torch.int32)\n",
      "predicted: tensor([3], device='cuda:0'), actual: tensor([3], device='cuda:0', dtype=torch.int32)\n",
      "predicted: tensor([3], device='cuda:0'), actual: tensor([3], device='cuda:0', dtype=torch.int32)\n",
      "predicted: tensor([3], device='cuda:0'), actual: tensor([3], device='cuda:0', dtype=torch.int32)\n",
      "predicted: tensor([3], device='cuda:0'), actual: tensor([3], device='cuda:0', dtype=torch.int32)\n",
      "predicted: tensor([3], device='cuda:0'), actual: tensor([3], device='cuda:0', dtype=torch.int32)\n",
      "predicted: tensor([3], device='cuda:0'), actual: tensor([3], device='cuda:0', dtype=torch.int32)\n",
      "predicted: tensor([3], device='cuda:0'), actual: tensor([3], device='cuda:0', dtype=torch.int32)\n",
      "predicted: tensor([3], device='cuda:0'), actual: tensor([3], device='cuda:0', dtype=torch.int32)\n",
      "predicted: tensor([3], device='cuda:0'), actual: tensor([3], device='cuda:0', dtype=torch.int32)\n",
      "predicted: tensor([0], device='cuda:0'), actual: tensor([0], device='cuda:0', dtype=torch.int32)\n",
      "predicted: tensor([0], device='cuda:0'), actual: tensor([0], device='cuda:0', dtype=torch.int32)\n",
      "predicted: tensor([0], device='cuda:0'), actual: tensor([0], device='cuda:0', dtype=torch.int32)\n",
      "predicted: tensor([0], device='cuda:0'), actual: tensor([0], device='cuda:0', dtype=torch.int32)\n",
      "predicted: tensor([0], device='cuda:0'), actual: tensor([0], device='cuda:0', dtype=torch.int32)\n",
      "predicted: tensor([0], device='cuda:0'), actual: tensor([0], device='cuda:0', dtype=torch.int32)\n",
      "predicted: tensor([0], device='cuda:0'), actual: tensor([0], device='cuda:0', dtype=torch.int32)\n",
      "predicted: tensor([0], device='cuda:0'), actual: tensor([0], device='cuda:0', dtype=torch.int32)\n",
      "predicted: tensor([0], device='cuda:0'), actual: tensor([0], device='cuda:0', dtype=torch.int32)\n",
      "predicted: tensor([0], device='cuda:0'), actual: tensor([0], device='cuda:0', dtype=torch.int32)\n",
      "predicted: tensor([0], device='cuda:0'), actual: tensor([0], device='cuda:0', dtype=torch.int32)\n",
      "predicted: tensor([0], device='cuda:0'), actual: tensor([0], device='cuda:0', dtype=torch.int32)\n",
      "predicted: tensor([0], device='cuda:0'), actual: tensor([0], device='cuda:0', dtype=torch.int32)\n",
      "predicted: tensor([0], device='cuda:0'), actual: tensor([0], device='cuda:0', dtype=torch.int32)\n",
      "predicted: tensor([0], device='cuda:0'), actual: tensor([0], device='cuda:0', dtype=torch.int32)\n",
      "predicted: tensor([0], device='cuda:0'), actual: tensor([0], device='cuda:0', dtype=torch.int32)\n",
      "272\n",
      "273\n",
      "Accuracy of the network on the test images: 99 %\n"
     ]
    },
    {
     "ename": "",
     "evalue": "",
     "output_type": "error",
     "traceback": [
      "\u001b[1;31mThe Kernel crashed while executing code in the current cell or a previous cell. \n",
      "\u001b[1;31mPlease review the code in the cell(s) to identify a possible cause of the failure. \n",
      "\u001b[1;31mClick <a href='https://aka.ms/vscodeJupyterKernelCrash'>here</a> for more info. \n",
      "\u001b[1;31mView Jupyter <a href='command:jupyter.viewOutput'>log</a> for further details."
     ]
    }
   ],
   "source": [
    "#predict\n",
    "correct = 0\n",
    "total = 0\n",
    "\n",
    "with torch.no_grad():\n",
    "    for images, labels in test_loader:\n",
    "        images = images.to('cuda')\n",
    "        labels = labels.to('cuda')\n",
    "\n",
    "        outputs = model(images)\n",
    "        _, predicted = torch.max(outputs.data, 1)\n",
    "        total += labels.size(0)\n",
    "        correct += (predicted == labels).sum().item()\n",
    "        print(f\"predicted: {predicted}, actual: {labels}\")\n",
    "\n",
    "print(correct)\n",
    "print(total)\n",
    "print('Accuracy of the network on the test images: %d %%' % (100 * correct / total))"
   ]
  },
  {
   "cell_type": "code",
   "execution_count": null,
   "metadata": {},
   "outputs": [],
   "source": [
    "torch.save(model.state_dict(), 'model.pth')"
   ]
  }
 ],
 "metadata": {
  "kernelspec": {
   "display_name": "computer-vision-2",
   "language": "python",
   "name": "python3"
  },
  "language_info": {
   "codemirror_mode": {
    "name": "ipython",
    "version": 3
   },
   "file_extension": ".py",
   "mimetype": "text/x-python",
   "name": "python",
   "nbconvert_exporter": "python",
   "pygments_lexer": "ipython3",
   "version": "3.9.21"
  }
 },
 "nbformat": 4,
 "nbformat_minor": 2
}
